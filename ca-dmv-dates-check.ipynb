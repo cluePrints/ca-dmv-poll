{
 "cells": [
  {
   "cell_type": "code",
   "execution_count": 1,
   "metadata": {},
   "outputs": [],
   "source": [
    "import os\n",
    "from os import environ\n",
    "from selenium import webdriver\n",
    "from selenium.webdriver.support.select import Select\n",
    "import dateparser\n",
    "import datetime\n",
    "import time\n",
    "import random\n",
    "import requests\n",
    "\n",
    "driver = webdriver.Chrome()"
   ]
  },
  {
   "cell_type": "code",
   "execution_count": 2,
   "metadata": {},
   "outputs": [],
   "source": [
    "from dotenv import load_dotenv\n",
    "load_dotenv()\n",
    "import os\n",
    "API_KEY_2CAPTCHA = os.getenv(\"API_KEY_2CAPTCHA\")"
   ]
  },
  {
   "cell_type": "code",
   "execution_count": 3,
   "metadata": {},
   "outputs": [],
   "source": [
    "CALIFORNIA_ID = 'taskCID'\n",
    "REAL_ID = 'taskRID'\n",
    "\n",
    "# edit these:\n",
    "task_types = [CALIFORNIA_ID, REAL_ID] \n",
    "name = 'First'\n",
    "last_name = 'Last'\n",
    "phone_number = '6280000000'"
   ]
  },
  {
   "cell_type": "code",
   "execution_count": 4,
   "metadata": {},
   "outputs": [],
   "source": [
    "driver.get(\"https://www.dmv.ca.gov/wasapp/foa/clear.do?goTo=officeVisit&localeName=en\")"
   ]
  },
  {
   "cell_type": "code",
   "execution_count": 27,
   "metadata": {},
   "outputs": [],
   "source": [
    "task_selector_id_by_count = ['one_task', 'two_tasks', 'three_tasks']\n",
    "task_selector_id = task_selector_id_by_count[len(task_types)-1]\n",
    "task_selector = driver.find_element_by_id(task_selector_id)\n",
    "task_selector.click()"
   ]
  },
  {
   "cell_type": "code",
   "execution_count": 28,
   "metadata": {},
   "outputs": [],
   "source": [
    "for task_type in task_types:\n",
    "    task_type_selector = driver.find_element_by_id(task_type)\n",
    "    if not task_type_selector.is_selected():\n",
    "        task_type_selector.click() "
   ]
  },
  {
   "cell_type": "code",
   "execution_count": 29,
   "metadata": {},
   "outputs": [],
   "source": [
    "name_field = driver.find_element_by_name('firstName')\n",
    "name_field.clear()\n",
    "name_field.send_keys(name)\n",
    "lastname_field = driver.find_element_by_name('lastName')\n",
    "lastname_field.clear()\n",
    "lastname_field.send_keys(last_name)"
   ]
  },
  {
   "cell_type": "code",
   "execution_count": 30,
   "metadata": {},
   "outputs": [],
   "source": [
    "phone_area_field = driver.find_element_by_name('telArea')\n",
    "phone_area_field.send_keys(phone_number)"
   ]
  },
  {
   "cell_type": "code",
   "execution_count": 31,
   "metadata": {},
   "outputs": [],
   "source": [
    "results = {}\n",
    "\"\"\"\n",
    "<button class=\"rc-button-default goog-inline-block\" title=\"\" value=\"\" id=\"recaptcha-verify-button\" tabindex=\"0\">Verify</button>\"\"\";"
   ]
  },
  {
   "cell_type": "code",
   "execution_count": 32,
   "metadata": {},
   "outputs": [],
   "source": [
    "target_office_names = [\n",
    "                'SAN FRANCISCO',\n",
    "                'DALY CITY',\n",
    "                'OAKLAND CLAREMONT',\n",
    "                'OAKLAND COLISEUM',\n",
    "                'HAYWARD',\n",
    "                'FREMONT',\n",
    "                'EL CERRITO',\n",
    "                'CONCORD',\n",
    "                'WALNUT CREEK',\n",
    "                'PITTSBURG',\n",
    "                'PLEASANTON']"
   ]
  },
  {
   "cell_type": "code",
   "execution_count": 33,
   "metadata": {},
   "outputs": [],
   "source": [
    "def uncaptcha():\n",
    "    dos_captchas = driver.find_elements_by_class_name('rc-doscaptcha-body-text')\n",
    "    # TODO: this is happening in iframe, detect\n",
    "    if (len(dos_captchas) > 0):\n",
    "        print('Dos banner - throttling')\n",
    "        throttle()\n",
    "        raise ValueError(\"Boom\")\n",
    "        return\n",
    "    \n",
    "    recaptcha_response_fields = driver.find_elements_by_class_name('g-recaptcha-response')\n",
    "    if (len(recaptcha_response_fields) == 0):\n",
    "        print('No captcha it seems - skipping')\n",
    "        return\n",
    "\n",
    "    s = requests.Session()\n",
    "    recaptcha_input_field = driver.find_element_by_class_name('g-recaptcha')\n",
    "    googlekey = recaptcha_input_field.get_attribute('data-sitekey')\n",
    "    pageurl = driver.current_url\n",
    "    api_key = API_KEY_2CAPTCHA\n",
    "    method = 'userrecaptcha'\n",
    "    captcha_submission_response = s.post(f\"https://2captcha.com/in.php?key={api_key}\" +\n",
    "                        f\"&method={method}&googlekey={googlekey}&pageurl={pageurl}&json=1\")\n",
    "    request_id = captcha_submission_response.json()['request']\n",
    "    uncap = None\n",
    "    for i in range(10):\n",
    "        print(f'Waiting request #{request_id} {i}')\n",
    "        time.sleep(10)\n",
    "        # {'status': 0, 'request': 'CAPCHA_NOT_READY'}\n",
    "        # {'status': 1, 'request': ''}\n",
    "        try:\n",
    "            recaptcha_answer = s.get(f\"https://2captcha.com/res.php?key={api_key}&action=get&id={request_id}&json=1\")\n",
    "            if (recaptcha_answer.json()['status'] == 1):\n",
    "                uncap = recaptcha_answer.json()['request']\n",
    "                break\n",
    "        except Exception as e:\n",
    "            print(e)\n",
    "\n",
    "    recaptcha_response_field = driver.find_element_by_class_name('g-recaptcha-response')\n",
    "    driver.execute_script(\"arguments[0].value='\"+uncap+\"';\", recaptcha_response_field);\n",
    "    driver.find_element_by_id(\"findOffice\").submit();    "
   ]
  },
  {
   "cell_type": "code",
   "execution_count": 34,
   "metadata": {},
   "outputs": [],
   "source": [
    "def throttle():\n",
    "    # TODO: progressbar here would be nice\n",
    "    sleep_seconds = random.randint(40,140)\n",
    "    print(f\"Sleeping {sleep_seconds}\")\n",
    "    time.sleep(sleep_seconds)"
   ]
  },
  {
   "cell_type": "code",
   "execution_count": 35,
   "metadata": {},
   "outputs": [],
   "source": [
    "# before: https://www.dmv.ca.gov/wasapp/foa/officeVisit.do\n",
    "selector_field = driver.find_element_by_name('officeId')\n",
    "selector = Select(selector_field)\n",
    "office_names = selector_field.text.split('\\n')"
   ]
  },
  {
   "cell_type": "code",
   "execution_count": 36,
   "metadata": {},
   "outputs": [],
   "source": [
    "office_names_idx = {office_name: idx for idx, office_name in enumerate(office_names)}"
   ]
  },
  {
   "cell_type": "code",
   "execution_count": 37,
   "metadata": {},
   "outputs": [
    {
     "name": "stdout",
     "output_type": "stream",
     "text": [
      "85: OAKLAND CLAREMONT\n",
      "Waiting request #62610749194 0\n",
      "('Connection aborted.', RemoteDisconnected('Remote end closed connection without response'))\n",
      "Waiting request #62610749194 1\n",
      "Skipping 85(OAKLAND CLAREMONT): not available\n",
      "Sleeping 90\n",
      "86: OAKLAND COLISEUM\n",
      "Waiting request #62610755303 0\n",
      "Waiting request #62610755303 1\n",
      "Waiting request #62610755303 2\n",
      "('Connection aborted.', RemoteDisconnected('Remote end closed connection without response'))\n",
      "Waiting request #62610755303 3\n",
      "Skipping 86(OAKLAND COLISEUM): not available\n",
      "Sleeping 82\n",
      "40: FREMONT\n",
      "Waiting request #62610762892 0\n",
      "('Connection aborted.', RemoteDisconnected('Remote end closed connection without response'))\n",
      "Waiting request #62610762892 1\n",
      "Skipping 40(FREMONT): not available\n",
      "Sleeping 87\n",
      "27: DALY CITY\n",
      "Waiting request #62610769696 0\n",
      "('Connection aborted.', RemoteDisconnected('Remote end closed connection without response'))\n",
      "Waiting request #62610769696 1\n",
      "Skipping 27(DALY CITY): not available\n",
      "Sleeping 105\n",
      "53: HAYWARD\n",
      "Problem processing element 53\n"
     ]
    },
    {
     "ename": "NoSuchElementException",
     "evalue": "Message: no such element: Unable to locate element: {\"method\":\"css selector\",\"selector\":\"[name=\"officeId\"]\"}\n  (Session info: chrome=78.0.3904.97)\n",
     "output_type": "error",
     "traceback": [
      "\u001b[0;31m---------------------------------------------------------------------------\u001b[0m",
      "\u001b[0;31mNoSuchElementException\u001b[0m                    Traceback (most recent call last)",
      "\u001b[0;32m<ipython-input-37-108deaa75886>\u001b[0m in \u001b[0;36m<module>\u001b[0;34m\u001b[0m\n\u001b[1;32m      8\u001b[0m \u001b[0;34m\u001b[0m\u001b[0m\n\u001b[1;32m      9\u001b[0m     \u001b[0;32mtry\u001b[0m\u001b[0;34m:\u001b[0m\u001b[0;34m\u001b[0m\u001b[0;34m\u001b[0m\u001b[0m\n\u001b[0;32m---> 10\u001b[0;31m         \u001b[0mselector_field\u001b[0m \u001b[0;34m=\u001b[0m \u001b[0mdriver\u001b[0m\u001b[0;34m.\u001b[0m\u001b[0mfind_element_by_name\u001b[0m\u001b[0;34m(\u001b[0m\u001b[0;34m'officeId'\u001b[0m\u001b[0;34m)\u001b[0m\u001b[0;34m\u001b[0m\u001b[0;34m\u001b[0m\u001b[0m\n\u001b[0m\u001b[1;32m     11\u001b[0m         \u001b[0mSelect\u001b[0m\u001b[0;34m(\u001b[0m\u001b[0mselector_field\u001b[0m\u001b[0;34m)\u001b[0m\u001b[0;34m.\u001b[0m\u001b[0mselect_by_index\u001b[0m\u001b[0;34m(\u001b[0m\u001b[0midx\u001b[0m\u001b[0;34m)\u001b[0m\u001b[0;34m\u001b[0m\u001b[0;34m\u001b[0m\u001b[0m\n\u001b[1;32m     12\u001b[0m         \u001b[0msubmit\u001b[0m \u001b[0;34m=\u001b[0m \u001b[0mdriver\u001b[0m\u001b[0;34m.\u001b[0m\u001b[0mfind_element_by_class_name\u001b[0m\u001b[0;34m(\u001b[0m\u001b[0;34m'btn-primary'\u001b[0m\u001b[0;34m)\u001b[0m\u001b[0;34m\u001b[0m\u001b[0;34m\u001b[0m\u001b[0m\n",
      "\u001b[0;32m~/opower/ca-dmv-poll/venv/lib/python3.7/site-packages/selenium/webdriver/remote/webdriver.py\u001b[0m in \u001b[0;36mfind_element_by_name\u001b[0;34m(self, name)\u001b[0m\n\u001b[1;32m    494\u001b[0m             \u001b[0melement\u001b[0m \u001b[0;34m=\u001b[0m \u001b[0mdriver\u001b[0m\u001b[0;34m.\u001b[0m\u001b[0mfind_element_by_name\u001b[0m\u001b[0;34m(\u001b[0m\u001b[0;34m'foo'\u001b[0m\u001b[0;34m)\u001b[0m\u001b[0;34m\u001b[0m\u001b[0;34m\u001b[0m\u001b[0m\n\u001b[1;32m    495\u001b[0m         \"\"\"\n\u001b[0;32m--> 496\u001b[0;31m         \u001b[0;32mreturn\u001b[0m \u001b[0mself\u001b[0m\u001b[0;34m.\u001b[0m\u001b[0mfind_element\u001b[0m\u001b[0;34m(\u001b[0m\u001b[0mby\u001b[0m\u001b[0;34m=\u001b[0m\u001b[0mBy\u001b[0m\u001b[0;34m.\u001b[0m\u001b[0mNAME\u001b[0m\u001b[0;34m,\u001b[0m \u001b[0mvalue\u001b[0m\u001b[0;34m=\u001b[0m\u001b[0mname\u001b[0m\u001b[0;34m)\u001b[0m\u001b[0;34m\u001b[0m\u001b[0;34m\u001b[0m\u001b[0m\n\u001b[0m\u001b[1;32m    497\u001b[0m \u001b[0;34m\u001b[0m\u001b[0m\n\u001b[1;32m    498\u001b[0m     \u001b[0;32mdef\u001b[0m \u001b[0mfind_elements_by_name\u001b[0m\u001b[0;34m(\u001b[0m\u001b[0mself\u001b[0m\u001b[0;34m,\u001b[0m \u001b[0mname\u001b[0m\u001b[0;34m)\u001b[0m\u001b[0;34m:\u001b[0m\u001b[0;34m\u001b[0m\u001b[0;34m\u001b[0m\u001b[0m\n",
      "\u001b[0;32m~/opower/ca-dmv-poll/venv/lib/python3.7/site-packages/selenium/webdriver/remote/webdriver.py\u001b[0m in \u001b[0;36mfind_element\u001b[0;34m(self, by, value)\u001b[0m\n\u001b[1;32m    976\u001b[0m         return self.execute(Command.FIND_ELEMENT, {\n\u001b[1;32m    977\u001b[0m             \u001b[0;34m'using'\u001b[0m\u001b[0;34m:\u001b[0m \u001b[0mby\u001b[0m\u001b[0;34m,\u001b[0m\u001b[0;34m\u001b[0m\u001b[0;34m\u001b[0m\u001b[0m\n\u001b[0;32m--> 978\u001b[0;31m             'value': value})['value']\n\u001b[0m\u001b[1;32m    979\u001b[0m \u001b[0;34m\u001b[0m\u001b[0m\n\u001b[1;32m    980\u001b[0m     \u001b[0;32mdef\u001b[0m \u001b[0mfind_elements\u001b[0m\u001b[0;34m(\u001b[0m\u001b[0mself\u001b[0m\u001b[0;34m,\u001b[0m \u001b[0mby\u001b[0m\u001b[0;34m=\u001b[0m\u001b[0mBy\u001b[0m\u001b[0;34m.\u001b[0m\u001b[0mID\u001b[0m\u001b[0;34m,\u001b[0m \u001b[0mvalue\u001b[0m\u001b[0;34m=\u001b[0m\u001b[0;32mNone\u001b[0m\u001b[0;34m)\u001b[0m\u001b[0;34m:\u001b[0m\u001b[0;34m\u001b[0m\u001b[0;34m\u001b[0m\u001b[0m\n",
      "\u001b[0;32m~/opower/ca-dmv-poll/venv/lib/python3.7/site-packages/selenium/webdriver/remote/webdriver.py\u001b[0m in \u001b[0;36mexecute\u001b[0;34m(self, driver_command, params)\u001b[0m\n\u001b[1;32m    319\u001b[0m         \u001b[0mresponse\u001b[0m \u001b[0;34m=\u001b[0m \u001b[0mself\u001b[0m\u001b[0;34m.\u001b[0m\u001b[0mcommand_executor\u001b[0m\u001b[0;34m.\u001b[0m\u001b[0mexecute\u001b[0m\u001b[0;34m(\u001b[0m\u001b[0mdriver_command\u001b[0m\u001b[0;34m,\u001b[0m \u001b[0mparams\u001b[0m\u001b[0;34m)\u001b[0m\u001b[0;34m\u001b[0m\u001b[0;34m\u001b[0m\u001b[0m\n\u001b[1;32m    320\u001b[0m         \u001b[0;32mif\u001b[0m \u001b[0mresponse\u001b[0m\u001b[0;34m:\u001b[0m\u001b[0;34m\u001b[0m\u001b[0;34m\u001b[0m\u001b[0m\n\u001b[0;32m--> 321\u001b[0;31m             \u001b[0mself\u001b[0m\u001b[0;34m.\u001b[0m\u001b[0merror_handler\u001b[0m\u001b[0;34m.\u001b[0m\u001b[0mcheck_response\u001b[0m\u001b[0;34m(\u001b[0m\u001b[0mresponse\u001b[0m\u001b[0;34m)\u001b[0m\u001b[0;34m\u001b[0m\u001b[0;34m\u001b[0m\u001b[0m\n\u001b[0m\u001b[1;32m    322\u001b[0m             response['value'] = self._unwrap_value(\n\u001b[1;32m    323\u001b[0m                 response.get('value', None))\n",
      "\u001b[0;32m~/opower/ca-dmv-poll/venv/lib/python3.7/site-packages/selenium/webdriver/remote/errorhandler.py\u001b[0m in \u001b[0;36mcheck_response\u001b[0;34m(self, response)\u001b[0m\n\u001b[1;32m    240\u001b[0m                 \u001b[0malert_text\u001b[0m \u001b[0;34m=\u001b[0m \u001b[0mvalue\u001b[0m\u001b[0;34m[\u001b[0m\u001b[0;34m'alert'\u001b[0m\u001b[0;34m]\u001b[0m\u001b[0;34m.\u001b[0m\u001b[0mget\u001b[0m\u001b[0;34m(\u001b[0m\u001b[0;34m'text'\u001b[0m\u001b[0;34m)\u001b[0m\u001b[0;34m\u001b[0m\u001b[0;34m\u001b[0m\u001b[0m\n\u001b[1;32m    241\u001b[0m             \u001b[0;32mraise\u001b[0m \u001b[0mexception_class\u001b[0m\u001b[0;34m(\u001b[0m\u001b[0mmessage\u001b[0m\u001b[0;34m,\u001b[0m \u001b[0mscreen\u001b[0m\u001b[0;34m,\u001b[0m \u001b[0mstacktrace\u001b[0m\u001b[0;34m,\u001b[0m \u001b[0malert_text\u001b[0m\u001b[0;34m)\u001b[0m\u001b[0;34m\u001b[0m\u001b[0;34m\u001b[0m\u001b[0m\n\u001b[0;32m--> 242\u001b[0;31m         \u001b[0;32mraise\u001b[0m \u001b[0mexception_class\u001b[0m\u001b[0;34m(\u001b[0m\u001b[0mmessage\u001b[0m\u001b[0;34m,\u001b[0m \u001b[0mscreen\u001b[0m\u001b[0;34m,\u001b[0m \u001b[0mstacktrace\u001b[0m\u001b[0;34m)\u001b[0m\u001b[0;34m\u001b[0m\u001b[0;34m\u001b[0m\u001b[0m\n\u001b[0m\u001b[1;32m    243\u001b[0m \u001b[0;34m\u001b[0m\u001b[0m\n\u001b[1;32m    244\u001b[0m     \u001b[0;32mdef\u001b[0m \u001b[0m_value_or_default\u001b[0m\u001b[0;34m(\u001b[0m\u001b[0mself\u001b[0m\u001b[0;34m,\u001b[0m \u001b[0mobj\u001b[0m\u001b[0;34m,\u001b[0m \u001b[0mkey\u001b[0m\u001b[0;34m,\u001b[0m \u001b[0mdefault\u001b[0m\u001b[0;34m)\u001b[0m\u001b[0;34m:\u001b[0m\u001b[0;34m\u001b[0m\u001b[0;34m\u001b[0m\u001b[0m\n",
      "\u001b[0;31mNoSuchElementException\u001b[0m: Message: no such element: Unable to locate element: {\"method\":\"css selector\",\"selector\":\"[name=\"officeId\"]\"}\n  (Session info: chrome=78.0.3904.97)\n"
     ]
    }
   ],
   "source": [
    "#office_names.insert(0, '<empty>')\n",
    "offices_count = len(selector.options)\n",
    "for office_name in target_office_names:\n",
    "    idx = office_names_idx[office_name]\n",
    "    print(str(idx) + \": \" + office_name)\n",
    "    if (not office_name in target_office_names):\n",
    "        continue\n",
    "\n",
    "    try:\n",
    "        selector_field = driver.find_element_by_name('officeId')\n",
    "        Select(selector_field).select_by_index(idx)\n",
    "        submit = driver.find_element_by_class_name('btn-primary')\n",
    "        submit.click()\n",
    "        uncaptcha()\n",
    "\n",
    "        table_rows = driver.find_elements_by_css_selector('tbody > tr > td > p.no-margin-bottom')\n",
    "        address = 'not available'\n",
    "        \n",
    "        if len(table_rows)>0:\n",
    "            address = table_rows[0].text\n",
    "        if ('not available' in address) or ('no appointment is available' in address) or ('all appointments at this office are currently taken' in address):\n",
    "            print(\"Skipping {idx}({name}): {address}\".format(idx=idx, name=office_name, address=address))\n",
    "        else:\n",
    "            datetime_str = table_rows[2].text\n",
    "            datetime_val = dateparser.parse(datetime_str)\n",
    "            results[address] = datetime_val\n",
    "\n",
    "        driver.back()\n",
    "        throttle()\n",
    "        # TODO: report good\n",
    "    except:\n",
    "        print(\"Problem processing element \" + str(idx))\n",
    "        raise"
   ]
  },
  {
   "cell_type": "code",
   "execution_count": null,
   "metadata": {},
   "outputs": [],
   "source": [
    "selector_field = driver.find_element_by_name('officeId')\n",
    "Select(selector_field).select_by_index(1)"
   ]
  },
  {
   "cell_type": "code",
   "execution_count": null,
   "metadata": {},
   "outputs": [],
   "source": [
    "sorted([date.isoformat() + ' ' + address for address, date in results.items()])"
   ]
  },
  {
   "cell_type": "code",
   "execution_count": null,
   "metadata": {},
   "outputs": [],
   "source": [
    "driver.close()"
   ]
  },
  {
   "cell_type": "code",
   "execution_count": null,
   "metadata": {},
   "outputs": [],
   "source": [
    "driver.find_elements_by_class_name('g-recaptcha-response')"
   ]
  },
  {
   "cell_type": "code",
   "execution_count": null,
   "metadata": {},
   "outputs": [],
   "source": []
  }
 ],
 "metadata": {
  "kernelspec": {
   "display_name": "ca-dmv-poll",
   "language": "python",
   "name": "ca-dmv-poll"
  },
  "language_info": {
   "codemirror_mode": {
    "name": "ipython",
    "version": 3
   },
   "file_extension": ".py",
   "mimetype": "text/x-python",
   "name": "python",
   "nbconvert_exporter": "python",
   "pygments_lexer": "ipython3",
   "version": "3.7.4"
  }
 },
 "nbformat": 4,
 "nbformat_minor": 2
}
