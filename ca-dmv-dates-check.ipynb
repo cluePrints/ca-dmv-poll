{
 "cells": [
  {
   "cell_type": "code",
   "execution_count": 122,
   "metadata": {},
   "outputs": [],
   "source": [
    "import os\n",
    "from os import environ\n",
    "from selenium import webdriver\n",
    "from selenium.webdriver.support.select import Select\n",
    "import dateparser\n",
    "import datetime\n",
    "\n",
    "driver = webdriver.Chrome()"
   ]
  },
  {
   "cell_type": "code",
   "execution_count": 123,
   "metadata": {},
   "outputs": [],
   "source": [
    "task_type = 'taskCID' # can be 'taskRID' for realID\n",
    "name = 'First'\n",
    "last_name = 'Last'\n",
    "phone_number = '6280000000'"
   ]
  },
  {
   "cell_type": "code",
   "execution_count": 124,
   "metadata": {},
   "outputs": [],
   "source": [
    "driver.get(\"https://www.dmv.ca.gov/wasapp/foa/clear.do?goTo=officeVisit&localeName=en\")"
   ]
  },
  {
   "cell_type": "code",
   "execution_count": 125,
   "metadata": {},
   "outputs": [],
   "source": [
    "task_selector = driver.find_element_by_id('one_task')\n",
    "task_selector.click()"
   ]
  },
  {
   "cell_type": "code",
   "execution_count": 126,
   "metadata": {},
   "outputs": [],
   "source": [
    "task_type_selector = driver.find_element_by_id(task_type)\n",
    "if not task_type_selector.is_selected():\n",
    "    task_type_selector.click() "
   ]
  },
  {
   "cell_type": "code",
   "execution_count": 127,
   "metadata": {},
   "outputs": [],
   "source": [
    "name_field = driver.find_element_by_name('firstName')\n",
    "name_field.clear()\n",
    "name_field.send_keys(name)\n",
    "lastname_field = driver.find_element_by_name('lastName')\n",
    "lastname_field.clear()\n",
    "lastname_field.send_keys(last_name)"
   ]
  },
  {
   "cell_type": "code",
   "execution_count": 128,
   "metadata": {},
   "outputs": [],
   "source": [
    "phone_area_field = driver.find_element_by_name('telArea')\n",
    "phone_area_field.send_keys(phone_number)"
   ]
  },
  {
   "cell_type": "code",
   "execution_count": null,
   "metadata": {},
   "outputs": [],
   "source": [
    "results = {}"
   ]
  },
  {
   "cell_type": "code",
   "execution_count": 137,
   "metadata": {},
   "outputs": [
    {
     "name": "stdout",
     "output_type": "stream",
     "text": [
      "Skipping 45 - the service not available there.\n",
      "Skipping 47 - the service not available there.\n",
      "Skipping 57 - the service not available there.\n",
      "Problem processing element 75\n"
     ]
    },
    {
     "ename": "IndexError",
     "evalue": "list index out of range",
     "output_type": "error",
     "traceback": [
      "\u001b[0;31m---------------------------------------------------------------------------\u001b[0m",
      "\u001b[0;31mIndexError\u001b[0m                                Traceback (most recent call last)",
      "\u001b[0;32m<ipython-input-137-3be367d35007>\u001b[0m in \u001b[0;36m<module>\u001b[0;34m()\u001b[0m\n\u001b[1;32m     11\u001b[0m \u001b[0;34m\u001b[0m\u001b[0m\n\u001b[1;32m     12\u001b[0m         \u001b[0mtable_rows\u001b[0m \u001b[0;34m=\u001b[0m \u001b[0mdriver\u001b[0m\u001b[0;34m.\u001b[0m\u001b[0mfind_elements_by_css_selector\u001b[0m\u001b[0;34m(\u001b[0m\u001b[0;34m'tbody > tr > td > p.no-margin-bottom'\u001b[0m\u001b[0;34m)\u001b[0m\u001b[0;34m\u001b[0m\u001b[0m\n\u001b[0;32m---> 13\u001b[0;31m         \u001b[0maddress\u001b[0m \u001b[0;34m=\u001b[0m \u001b[0mtable_rows\u001b[0m\u001b[0;34m[\u001b[0m\u001b[0;36m0\u001b[0m\u001b[0;34m]\u001b[0m\u001b[0;34m.\u001b[0m\u001b[0mtext\u001b[0m\u001b[0;34m\u001b[0m\u001b[0m\n\u001b[0m\u001b[1;32m     14\u001b[0m         \u001b[0;32mif\u001b[0m \u001b[0;34m(\u001b[0m\u001b[0;34m'not available'\u001b[0m \u001b[0;32min\u001b[0m \u001b[0maddress\u001b[0m\u001b[0;34m)\u001b[0m \u001b[0;32mor\u001b[0m \u001b[0;34m(\u001b[0m\u001b[0;34m'no appointment is available'\u001b[0m \u001b[0;32min\u001b[0m \u001b[0maddress\u001b[0m\u001b[0;34m)\u001b[0m\u001b[0;34m:\u001b[0m\u001b[0;34m\u001b[0m\u001b[0m\n\u001b[1;32m     15\u001b[0m             \u001b[0mprint\u001b[0m\u001b[0;34m(\u001b[0m\u001b[0;34m\"Skipping \"\u001b[0m \u001b[0;34m+\u001b[0m \u001b[0mstr\u001b[0m\u001b[0;34m(\u001b[0m\u001b[0midx\u001b[0m\u001b[0;34m)\u001b[0m \u001b[0;34m+\u001b[0m \u001b[0;34m\" - the service not available there.\"\u001b[0m\u001b[0;34m)\u001b[0m\u001b[0;34m\u001b[0m\u001b[0m\n",
      "\u001b[0;31mIndexError\u001b[0m: list index out of range"
     ]
    }
   ],
   "source": [
    "selector_field = driver.find_element_by_name('officeId')\n",
    "offices_count = len(Select(selector_field).options)\n",
    "for idx in range(44, offices_count):\n",
    "    try:\n",
    "        selector_field = driver.find_element_by_name('officeId')\n",
    "        Select(selector_field).select_by_index(idx)\n",
    "        submit = driver.find_element_by_class_name('btn-primary')\n",
    "        submit.click()\n",
    "\n",
    "        table_rows = driver.find_elements_by_css_selector('tbody > tr > td > p.no-margin-bottom')\n",
    "        address = table_rows[0].text\n",
    "        if ('not available' in address) or ('no appointment is available' in address):\n",
    "            print(\"Skipping \" + str(idx) + \" - the service not available there.\")\n",
    "        else:\n",
    "            datetime_str = table_rows[2].text\n",
    "            datetime_val = dateparser.parse(datetime_str)\n",
    "            results[address] = datetime_val\n",
    "\n",
    "        driver.back()\n",
    "    except:\n",
    "        print(\"Problem processing element \" + str(idx))\n",
    "        raise"
   ]
  },
  {
   "cell_type": "code",
   "execution_count": 138,
   "metadata": {},
   "outputs": [
    {
     "data": {
      "text/plain": [
       "['2018-03-29T09:40:00 GRANADA HILLS DLPC\\n16201 San Fernando Mission Blvd\\nGRANADA HILLS DLPC, CA',\n",
       " '2018-04-05T09:40:00 LAKE ISABELLA\\n5520 Lake Isabella Road G1\\nLAKE ISABELLA, CA',\n",
       " '2018-04-05T14:20:00 LAKEPORT\\n965 Parallel Drive\\nLAKEPORT, CA',\n",
       " '2018-04-09T11:00:00 MADERA\\n1206 W. Maple St.\\nMADERA, CA',\n",
       " '2018-04-12T09:30:00 INDIO\\n44480 Jackson St.\\nINDIO, CA',\n",
       " '2018-04-12T11:00:00 GARBERVILLE\\n1180 Evergreen Road Suite A\\nGARBERVILLE, CA',\n",
       " '2018-04-18T10:00:00 GOLETA\\n7127 Hollister Ave. Ste. 24/26\\nGOLETA, CA',\n",
       " '2018-04-18T10:00:00 LOS GATOS\\n600 North Santa Cruz Ave.\\nLOS GATOS, CA',\n",
       " '2018-04-18T13:00:00 HANFORD\\n701 W. Hanford Armona Road\\nHANFORD, CA',\n",
       " '2018-04-20T10:50:00 LOS BANOS\\n814 West L St.\\nLOS BANOS, CA',\n",
       " '2018-04-20T12:40:00 LOMPOC\\n1601 N H St\\nLOMPOC, CA',\n",
       " '2018-04-25T09:40:00 HEMET\\n1200 S. State Street\\nHEMET, CA',\n",
       " '2018-04-25T13:50:00 KING CITY\\n101 East San Antonio Dr.\\nKING CITY, CA',\n",
       " '2018-04-26T13:10:00 GRASS VALLEY\\n435 Sutton Way\\nGRASS VALLEY, CA',\n",
       " '2018-04-26T14:40:00 LANCASTER\\n721 W. Ave. L6\\nLANCASTER, CA',\n",
       " '2018-04-27T10:50:00 HOLLISTER\\n80 N. Sally Street\\nHOLLISTER, CA',\n",
       " '2018-04-27T13:50:00 INGLEWOOD\\n621 N. La Brea Ave.\\nINGLEWOOD, CA',\n",
       " '2018-04-27T15:40:00 JACKSON\\n201 Clinton Road\\nJACKSON, CA',\n",
       " '2018-04-30T09:00:00 MANTECA\\n955 Davis Street\\nMANTECA, CA',\n",
       " '2018-04-30T11:40:00 LONG BEACH\\n3700 East Willow Street\\nLONG BEACH, CA',\n",
       " '2018-04-30T14:20:00 LINCOLN PARK\\n3529 N. Mission Road\\nLINCOLN PARK, CA',\n",
       " '2018-04-30T15:20:00 LOS ANGELES\\n3615 S. Hope Street\\nLOS ANGELES, CA',\n",
       " '2018-05-01T08:20:00 HAWTHORNE\\n3700 W. El Segundo Boulevard\\nHAWTHORNE, CA',\n",
       " '2018-05-01T10:20:00 LODI\\n1222 Pixley Parkway\\nLODI, CA',\n",
       " '2018-05-01T15:40:00 HOLLYWOOD COLE\\n803 Cole Avenue\\nHOLLYWOOD COLE, CA',\n",
       " '2018-05-02T10:20:00 HAYWARD\\n150 Jackson Street\\nHAYWARD, CA',\n",
       " '2018-05-02T13:20:00 LAGUNA HILLS\\n23535 Moulton Parkway\\nLAGUNA HILLS, CA',\n",
       " '2018-05-03T09:50:00 GILROY\\n6984 Chestnut Street Suite A\\nGILROY, CA']"
      ]
     },
     "execution_count": 138,
     "metadata": {},
     "output_type": "execute_result"
    }
   ],
   "source": [
    "sorted([date.isoformat() + ' ' + address for address, date in results.items()])"
   ]
  },
  {
   "cell_type": "code",
   "execution_count": null,
   "metadata": {},
   "outputs": [],
   "source": [
    "driver.close()"
   ]
  }
 ],
 "metadata": {
  "kernelspec": {
   "display_name": "Python 3",
   "language": "python",
   "name": "python3"
  },
  "language_info": {
   "codemirror_mode": {
    "name": "ipython",
    "version": 3
   },
   "file_extension": ".py",
   "mimetype": "text/x-python",
   "name": "python",
   "nbconvert_exporter": "python",
   "pygments_lexer": "ipython3",
   "version": "3.6.4"
  }
 },
 "nbformat": 4,
 "nbformat_minor": 2
}
