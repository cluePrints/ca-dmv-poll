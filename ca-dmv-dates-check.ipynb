{
 "cells": [
  {
   "cell_type": "code",
   "execution_count": 122,
   "metadata": {},
   "outputs": [],
   "source": [
    "import os\n",
    "from os import environ\n",
    "from selenium import webdriver\n",
    "from selenium.webdriver.support.select import Select\n",
    "import dateparser\n",
    "import datetime\n",
    "\n",
    "driver = webdriver.Chrome()"
   ]
  },
  {
   "cell_type": "code",
   "execution_count": 123,
   "metadata": {},
   "outputs": [],
   "source": [
    "task_type = 'taskCID' # can be 'taskRID' for realID\n",
    "name = 'First'\n",
    "last_name = 'Last'\n",
    "phone_number = '6280000000'"
   ]
  },
  {
   "cell_type": "code",
   "execution_count": 124,
   "metadata": {},
   "outputs": [],
   "source": [
    "driver.get(\"https://www.dmv.ca.gov/wasapp/foa/clear.do?goTo=officeVisit&localeName=en\")"
   ]
  },
  {
   "cell_type": "code",
   "execution_count": 125,
   "metadata": {},
   "outputs": [],
   "source": [
    "task_selector = driver.find_element_by_id('one_task')\n",
    "task_selector.click()"
   ]
  },
  {
   "cell_type": "code",
   "execution_count": 126,
   "metadata": {},
   "outputs": [],
   "source": [
    "task_type_selector = driver.find_element_by_id(task_type)\n",
    "if not task_type_selector.is_selected():\n",
    "    task_type_selector.click() "
   ]
  },
  {
   "cell_type": "code",
   "execution_count": 127,
   "metadata": {},
   "outputs": [],
   "source": [
    "name_field = driver.find_element_by_name('firstName')\n",
    "name_field.clear()\n",
    "name_field.send_keys(name)\n",
    "lastname_field = driver.find_element_by_name('lastName')\n",
    "lastname_field.clear()\n",
    "lastname_field.send_keys(last_name)"
   ]
  },
  {
   "cell_type": "code",
   "execution_count": 128,
   "metadata": {},
   "outputs": [],
   "source": [
    "phone_area_field = driver.find_element_by_name('telArea')\n",
    "phone_area_field.send_keys(phone_number)"
   ]
  },
  {
   "cell_type": "code",
   "execution_count": null,
   "metadata": {},
   "outputs": [],
   "source": [
    "results = {}"
   ]
  },
  {
   "cell_type": "code",
   "execution_count": 159,
   "metadata": {},
   "outputs": [],
   "source": [
    "target_office_names = ['PLEASANTON',\n",
    "                'OAKLAND CLAREMONT',\n",
    "                'OAKLAND COLISEUM',\n",
    "                'FREMONT',\n",
    "                'DALY CITY',\n",
    "                'HAYWARD',\n",
    "                'SAN FRANCISCO',\n",
    "                'EL CERRITO',\n",
    "                'CONCORD',\n",
    "                'WALNUT CREEK',\n",
    "                'PITTSBURG']"
   ]
  },
  {
   "cell_type": "code",
   "execution_count": 160,
   "metadata": {},
   "outputs": [
    {
     "name": "stdout",
     "output_type": "stream",
     "text": [
      "Skipping 32(EL CERRITO): Sorry, no appointment is available for the date and/or time entered. Please make another selection.\n"
     ]
    }
   ],
   "source": [
    "selector_field = driver.find_element_by_name('officeId')\n",
    "selector = Select(selector_field)\n",
    "office_names = selector_field.text.split('\\n')\n",
    "office_names.insert(0, '<empty>')\n",
    "offices_count = len(selector.options)\n",
    "for idx, office_name in enumerate(office_names):\n",
    "#    print(str(idx) + \": \" + office_name)\n",
    "    if (not office_name in target_office_names):\n",
    "        continue\n",
    "\n",
    "    try:\n",
    "        selector_field = driver.find_element_by_name('officeId')\n",
    "        Select(selector_field).select_by_index(idx)\n",
    "        submit = driver.find_element_by_class_name('btn-primary')\n",
    "        submit.click()\n",
    "\n",
    "        table_rows = driver.find_elements_by_css_selector('tbody > tr > td > p.no-margin-bottom')\n",
    "        address = 'not available'\n",
    "        \n",
    "        if len(table_rows)>0:\n",
    "            address = table_rows[0].text\n",
    "        if ('not available' in address) or ('no appointment is available' in address):\n",
    "            print(\"Skipping {idx}({name}): {address}\".format(idx=idx, name=office_name, address=address))\n",
    "        else:\n",
    "            datetime_str = table_rows[2].text\n",
    "            datetime_val = dateparser.parse(datetime_str)\n",
    "            results[address] = datetime_val\n",
    "\n",
    "        driver.back()\n",
    "    except:\n",
    "        print(\"Problem processing element \" + str(idx))\n",
    "        raise"
   ]
  },
  {
   "cell_type": "code",
   "execution_count": 161,
   "metadata": {},
   "outputs": [],
   "source": [
    "selector_field = driver.find_element_by_name('officeId')\n",
    "Select(selector_field).select_by_index(1)"
   ]
  },
  {
   "cell_type": "code",
   "execution_count": 162,
   "metadata": {},
   "outputs": [
    {
     "data": {
      "text/plain": [
       "['2018-08-22T14:40:00 HAYWARD\\n150 Jackson Street\\nHAYWARD, CA',\n",
       " '2018-08-23T10:20:00 FREMONT\\n4287 Central Ave.\\nFREMONT, CA',\n",
       " '2018-08-23T11:00:00 CONCORD\\n2070 Diamond Boulevard\\nCONCORD, CA',\n",
       " '2018-08-27T08:40:00 OAKLAND COLISEUM\\n501 85th Avenue\\nOAKLAND COLISEUM, CA',\n",
       " '2018-08-28T12:50:00 OAKLAND CLAREMONT\\n5300 Claremont Ave.\\nOAKLAND CLAREMONT, CA',\n",
       " '2018-08-29T10:40:00 DALY CITY\\n1500 Sullivan Avenue\\nDALY CITY, CA',\n",
       " '2018-08-30T11:20:00 SAN FRANCISCO\\n1377 Fell St.\\nSAN FRANCISCO, CA',\n",
       " '2018-09-04T09:20:00 WALNUT CREEK\\n1910 N. Broadway\\nWALNUT CREEK, CA',\n",
       " '2018-09-04T11:00:00 PITTSBURG\\n1399 Buchanan Road\\nPITTSBURG, CA',\n",
       " '2018-09-06T14:20:00 PLEASANTON\\n6300 W. Las Positas Blvd.\\nPLEASANTON, CA']"
      ]
     },
     "execution_count": 162,
     "metadata": {},
     "output_type": "execute_result"
    }
   ],
   "source": [
    "sorted([date.isoformat() + ' ' + address for address, date in results.items()])"
   ]
  },
  {
   "cell_type": "code",
   "execution_count": null,
   "metadata": {},
   "outputs": [],
   "source": [
    "driver.close()"
   ]
  }
 ],
 "metadata": {
  "kernelspec": {
   "display_name": "Python 3",
   "language": "python",
   "name": "python3"
  },
  "language_info": {
   "codemirror_mode": {
    "name": "ipython",
    "version": 3
   },
   "file_extension": ".py",
   "mimetype": "text/x-python",
   "name": "python",
   "nbconvert_exporter": "python",
   "pygments_lexer": "ipython3",
   "version": "3.6.4"
  }
 },
 "nbformat": 4,
 "nbformat_minor": 2
}
