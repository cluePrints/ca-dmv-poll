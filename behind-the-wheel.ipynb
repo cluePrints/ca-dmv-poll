{
 "cells": [
  {
   "cell_type": "code",
   "execution_count": 211,
   "metadata": {},
   "outputs": [],
   "source": [
    "import os\n",
    "from os import environ\n",
    "from selenium import webdriver\n",
    "from selenium.webdriver.support.select import Select\n",
    "import dateparser\n",
    "import datetime\n",
    "import time\n",
    "from selenium.webdriver.common.by import By \n",
    "from ipywidgets import FloatProgress\n",
    "from IPython.display import display"
   ]
  },
  {
   "cell_type": "code",
   "execution_count": 212,
   "metadata": {},
   "outputs": [],
   "source": [
    "first_name = 'First'\n",
    "last_name = 'Last'\n",
    "birth_date = 'MMDDYYYY'\n",
    "permit_number = 'Y-------'\n",
    "phone_number = '6280000000'"
   ]
  },
  {
   "cell_type": "code",
   "execution_count": 213,
   "metadata": {},
   "outputs": [],
   "source": [
    "office_names = ['PLEASANTON',\n",
    "                'OAKLAND CLAREMONT',\n",
    "                'OAKLAND COLISEUM',\n",
    "                'FREMONT',\n",
    "                'DALY CITY',\n",
    "                'HAYWARD',\n",
    "                'SAN FRANCISCO',\n",
    "                'EL CERRITO',\n",
    "                'CONCORD',\n",
    "                'WALNUT CREEK',\n",
    "                'PITTSBURG']"
   ]
  },
  {
   "cell_type": "code",
   "execution_count": 214,
   "metadata": {},
   "outputs": [],
   "source": [
    "driver = webdriver.Chrome()\n",
    "driver.get('https://www.dmv.ca.gov/wasapp/foa/clear.do?goTo=driveTest&localeName=en')"
   ]
  },
  {
   "cell_type": "code",
   "execution_count": 215,
   "metadata": {},
   "outputs": [],
   "source": [
    "def get_earliest_appointment_time(driver, office_name):\n",
    "    time_slept = 0\n",
    "    while len(driver.find_elements(By.ID, 'officeId'))==0 and time_slept < 10:\n",
    "        time.sleep(1)\n",
    "        time_slept += 1\n",
    "\n",
    "    selector_field = driver.find_element_by_id('officeId')\n",
    "    Select(selector_field).select_by_visible_text(office_name)\n",
    "\n",
    "    test_type_selector = driver.find_element_by_id('DT')\n",
    "    test_type_selector.click()\n",
    "    \n",
    "    first_name_input = driver.find_element_by_id('first_name')\n",
    "    first_name_input.clear()\n",
    "    first_name_input.send_keys(first_name)\n",
    "\n",
    "    last_name_input = driver.find_element_by_id('last_name')\n",
    "    last_name_input.clear()\n",
    "    last_name_input.send_keys(last_name)\n",
    "\n",
    "    permit_number_input = driver.find_element_by_id('dl_number')\n",
    "    permit_number_input.clear()\n",
    "    permit_number_input.send_keys(permit_number)\n",
    "\n",
    "    driver.find_element_by_id('birthMonth').clear()\n",
    "    driver.find_element_by_id('birthDay').clear()\n",
    "    driver.find_element_by_id('birthYear').clear()\n",
    "    driver.find_element_by_id('birthMonth').send_keys(birth_date)\n",
    "\n",
    "    driver.find_element_by_id('areaCode').clear()\n",
    "    driver.find_element_by_id('telPrefix').clear()\n",
    "    driver.find_element_by_id('telSuffix').clear()\n",
    "    driver.find_element_by_id('areaCode').send_keys(phone_number)\n",
    "\n",
    "    submit = driver.find_element_by_class_name('btn-primary')\n",
    "    submit.click()\n",
    "\n",
    "    table_rows = driver.find_elements_by_css_selector('tbody > tr > td > p.no-margin-bottom > strong')\n",
    "    earliest_date_str = table_rows[0].text\n",
    "    earliest_date = dateparser.parse(earliest_date_str)\n",
    "    driver.back()\n",
    "\n",
    "    return earliest_date;"
   ]
  },
  {
   "cell_type": "code",
   "execution_count": 216,
   "metadata": {},
   "outputs": [
    {
     "data": {
      "application/vnd.jupyter.widget-view+json": {
       "model_id": "6c25d6778d6d4c3f91de67a077ce29f4",
       "version_major": 2,
       "version_minor": 0
      },
      "text/html": [
       "<p>Failed to display Jupyter Widget of type <code>FloatProgress</code>.</p>\n",
       "<p>\n",
       "  If you're reading this message in the Jupyter Notebook or JupyterLab Notebook, it may mean\n",
       "  that the widgets JavaScript is still loading. If this message persists, it\n",
       "  likely means that the widgets JavaScript library is either not installed or\n",
       "  not enabled. See the <a href=\"https://ipywidgets.readthedocs.io/en/stable/user_install.html\">Jupyter\n",
       "  Widgets Documentation</a> for setup instructions.\n",
       "</p>\n",
       "<p>\n",
       "  If you're reading this message in another frontend (for example, a static\n",
       "  rendering on GitHub or <a href=\"https://nbviewer.jupyter.org/\">NBViewer</a>),\n",
       "  it may mean that your frontend doesn't currently support widgets.\n",
       "</p>\n"
      ],
      "text/plain": [
       "FloatProgress(value=0.0, max=11.0)"
      ]
     },
     "metadata": {},
     "output_type": "display_data"
    },
    {
     "data": {
      "text/plain": [
       "['2018-06-14T13:20:00 SAN FRANCISCO',\n",
       " '2018-06-19T09:40:00 PITTSBURG',\n",
       " '2018-06-20T13:20:00 OAKLAND COLISEUM',\n",
       " '2018-06-20T15:00:00 WALNUT CREEK',\n",
       " '2018-06-21T14:00:00 HAYWARD',\n",
       " '2018-06-25T08:00:00 OAKLAND CLAREMONT',\n",
       " '2018-06-25T09:20:00 CONCORD',\n",
       " '2018-06-25T11:20:00 EL CERRITO',\n",
       " '2018-06-25T14:40:00 PLEASANTON',\n",
       " '2018-07-05T08:20:00 FREMONT',\n",
       " '2018-07-27T09:20:00 DALY CITY']"
      ]
     },
     "execution_count": 216,
     "metadata": {},
     "output_type": "execute_result"
    }
   ],
   "source": [
    "dates = {}\n",
    "f = FloatProgress(min=0, max=len(office_names))\n",
    "display(f)\n",
    "for office_name in office_names:\n",
    "    dates[office_name] = get_earliest_appointment_time(driver, office_name)\n",
    "    f.value += 1\n",
    "\n",
    "offices_by_time = sorted([date.isoformat() + ' ' + address for address, date in dates.items()])\n",
    "offices_by_time"
   ]
  },
  {
   "cell_type": "markdown",
   "metadata": {},
   "source": [
    "['2018-05-29T08:40:00 PITTSBURG',\n",
    " '2018-06-12T15:20:00 SAN FRANCISCO',\n",
    " '2018-06-18T10:40:00 OAKLAND COLISEUM',\n",
    " '2018-06-18T14:40:00 HAYWARD',\n",
    " '2018-06-20T11:20:00 WALNUT CREEK',\n",
    " '2018-06-21T12:40:00 OAKLAND CLAREMONT',\n",
    " '2018-06-22T09:00:00 CONCORD',\n",
    " '2018-06-22T09:20:00 EL CERRITO',\n",
    " '2018-06-22T14:00:00 PLEASANTON',\n",
    " '2018-07-03T09:00:00 FREMONT',\n",
    " '2018-07-24T15:20:00 DALY CITY']"
   ]
  },
  {
   "cell_type": "code",
   "execution_count": null,
   "metadata": {},
   "outputs": [],
   "source": []
  }
 ],
 "metadata": {
  "kernelspec": {
   "display_name": "Python 3",
   "language": "python",
   "name": "python3"
  },
  "language_info": {
   "codemirror_mode": {
    "name": "ipython",
    "version": 3
   },
   "file_extension": ".py",
   "mimetype": "text/x-python",
   "name": "python",
   "nbconvert_exporter": "python",
   "pygments_lexer": "ipython3",
   "version": "3.6.4"
  }
 },
 "nbformat": 4,
 "nbformat_minor": 2
}
